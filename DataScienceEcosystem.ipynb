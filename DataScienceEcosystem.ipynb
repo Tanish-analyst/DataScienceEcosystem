{
 "cells": [
  {
   "cell_type": "markdown",
   "id": "707d6315-a56b-4abe-92b2-376428f841a2",
   "metadata": {},
   "source": [
    "# Data Science Tools and Ecosystem"
   ]
  },
  {
   "cell_type": "markdown",
   "id": "a0b0f4ab-a4e3-4531-8968-f7cdc011e1fd",
   "metadata": {},
   "source": [
    "In this notebook, Data Science Tools and Ecosystem are summarized.\n",
    "\n"
   ]
  },
  {
   "cell_type": "markdown",
   "id": "b0e13efe-bffc-46e8-ba5d-e207c182fdfc",
   "metadata": {},
   "source": [
    "**Objectives:**\n",
    "* Popular languages for Data Science\n",
    "* Popular languages for Data Science\n",
    "* Data \n",
    "* \n",
    "* Datasets and Models"
   ]
  },
  {
   "cell_type": "markdown",
   "id": "f9597ccd-a0a8-4a79-8b5f-1bcd33ee9b71",
   "metadata": {},
   "source": [
    "Some of the popular languages that Data Scientists use are:\n",
    "1. Python\n",
    "2. R\n",
    "3. SQL\n",
    "4. JavaScript\n"
   ]
  },
  {
   "cell_type": "markdown",
   "id": "264cdcd8-4e1a-42e4-8aa7-4233a1d64137",
   "metadata": {},
   "source": [
    "Some of the commonly used libraries used by Data Scientists include:\n",
    "1. Pandas\n",
    "2. Scikit-learn\n",
    "3. Numpy\n",
    "4. Matploltib\n",
    "5. Seaborn"
   ]
  },
  {
   "cell_type": "markdown",
   "id": "582b912c-81f8-4664-b33c-bba44a000b79",
   "metadata": {},
   "source": [
    "|Data Science Tools|\n",
    "|------------------|\n",
    "| Git/GitHub|\n",
    "|Matpltotlib|\n",
    "|TensorFlow|"
   ]
  },
  {
   "cell_type": "markdown",
   "id": "150a30a6-9c3d-4bdf-bf60-b6f332de93b9",
   "metadata": {},
   "source": [
    "### Below are a few examples of evaluating arithmetic expressions in Python.\n",
    "\n",
    "(1+3+5+6)*45/10"
   ]
  },
  {
   "cell_type": "code",
   "execution_count": 1,
   "id": "f6ecd73b-24ff-4f5a-aa35-efe35b04b041",
   "metadata": {},
   "outputs": [
    {
     "data": {
      "text/plain": [
       "17"
      ]
     },
     "execution_count": 1,
     "metadata": {},
     "output_type": "execute_result"
    }
   ],
   "source": [
    "# This a simple arithmetic expression to mutiply then add integers.\n",
    "(3*4)+5"
   ]
  },
  {
   "cell_type": "code",
   "execution_count": 2,
   "id": "71ae22c0-d69f-49d0-9505-bf7a1a125777",
   "metadata": {},
   "outputs": [
    {
     "data": {
      "text/plain": [
       "3.3333333333333335"
      ]
     },
     "execution_count": 2,
     "metadata": {},
     "output_type": "execute_result"
    }
   ],
   "source": [
    "# This will convert 200 minutes to hours by diving by 60.\n",
    "200/60"
   ]
  },
  {
   "cell_type": "markdown",
   "id": "073eedb2-13ac-4108-a926-9ba074517930",
   "metadata": {},
   "source": [
    "## Author\n",
    "TANISH SHARMA"
   ]
  },
  {
   "cell_type": "code",
   "execution_count": null,
   "id": "be031d8a-b578-4025-bd68-d8426f7f08f9",
   "metadata": {},
   "outputs": [],
   "source": []
  }
 ],
 "metadata": {
  "kernelspec": {
   "display_name": "Python 3 (ipykernel)",
   "language": "python",
   "name": "python3"
  },
  "language_info": {
   "codemirror_mode": {
    "name": "ipython",
    "version": 3
   },
   "file_extension": ".py",
   "mimetype": "text/x-python",
   "name": "python",
   "nbconvert_exporter": "python",
   "pygments_lexer": "ipython3",
   "version": "3.12.6"
  }
 },
 "nbformat": 4,
 "nbformat_minor": 5
}
